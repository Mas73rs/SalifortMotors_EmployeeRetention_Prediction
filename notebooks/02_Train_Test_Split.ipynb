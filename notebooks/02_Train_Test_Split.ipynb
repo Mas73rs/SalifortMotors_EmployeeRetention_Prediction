{
 "cells": [
  {
   "cell_type": "markdown",
   "metadata": {},
   "source": [
    "### Data Splits"
   ]
  },
  {
   "cell_type": "code",
   "execution_count": null,
   "metadata": {
    "execution": {
     "iopub.execute_input": "2023-09-28T17:55:15.66084Z",
     "iopub.status.busy": "2023-09-28T17:55:15.660331Z",
     "iopub.status.idle": "2023-09-28T17:55:15.678843Z",
     "shell.execute_reply": "2023-09-28T17:55:15.677567Z",
     "shell.execute_reply.started": "2023-09-28T17:55:15.660803Z"
    }
   },
   "outputs": [],
   "source": [
    "# Separate the outcome variable from the features\n",
    "y = df_logreg['left']\n",
    "X = df_logreg.drop('left', axis=1)\n",
    "\n",
    "# Slipt the data into training and testing sets\n",
    "X_train, X_test, y_train, y_test = train_test_split(X, y, test_size=0.25, stratify=y, random_state=42)\n",
    "\n",
    "# Save datasets\n",
    "X_train.to_csv('../data/processed/X_train.csv', index=False)\n",
    "X_test.to_csv('../data/processed/X_test.csv', index=False)\n",
    "y_train.to_csv('../data/processed/y_train.csv', index=False)\n",
    "y_test.to_csv('../data/processed/y_test.csv', index=False)"
   ]
  }
 ],
 "metadata": {
  "kernelspec": {
   "display_name": "Python 3",
   "language": "python",
   "name": "python3"
  },
  "language_info": {
   "codemirror_mode": {
    "name": "ipython",
    "version": 3
   },
   "file_extension": ".py",
   "mimetype": "text/x-python",
   "name": "python",
   "nbconvert_exporter": "python",
   "pygments_lexer": "ipython3",
   "version": "3.6.4"
  }
 },
 "nbformat": 4,
 "nbformat_minor": 4
}
