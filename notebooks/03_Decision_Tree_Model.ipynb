{
 "cells": [
  {
   "cell_type": "markdown",
   "metadata": {},
   "source": [
    "# Decision tree"
   ]
  },
  {
   "cell_type": "markdown",
   "metadata": {},
   "source": [
    "## Imports"
   ]
  },
  {
   "cell_type": "code",
   "execution_count": null,
   "metadata": {},
   "outputs": [],
   "source": [
    "# Imports\n",
    "import sys\n",
    "\n",
    "# Adds the utils directory to the PYTHONPATH\n",
    "sys.path.append(\"../utils\")  \n",
    "\n",
    "# Imports everything from common_imports.py\n",
    "from common_imports import *  \n",
    "\n",
    "# Adds the project root to the PYTHONPATH\n",
    "sys.path.append(\"..\")  \n",
    "\n",
    "# Load train / test datasets\n",
    "# Train sets\n",
    "X_train = pd.read_csv(X_train_path)\n",
    "y_train = pd.read_csv(y_train_path)\n",
    "\n",
    "# Test sets\n",
    "X_test = pd.read_csv(X_test_path)\n",
    "y_test = pd.read_csv(y_test_path)"
   ]
  },
  {
   "cell_type": "code",
   "execution_count": null,
   "metadata": {
    "execution": {
     "iopub.execute_input": "2023-09-28T18:13:32.988538Z",
     "iopub.status.busy": "2023-09-28T18:13:32.986953Z",
     "iopub.status.idle": "2023-09-28T18:13:32.996394Z",
     "shell.execute_reply": "2023-09-28T18:13:32.995227Z",
     "shell.execute_reply.started": "2023-09-28T18:13:32.988479Z"
    }
   },
   "outputs": [],
   "source": [
    "# Instantiate a decision tree model\n",
    "tree = DecisionTreeClassifier(random_state=42)\n",
    "\n",
    "# Dictionnary of hyperparameters\n",
    "cv_params = {'max_depth' : [4, 6, 8, None],\n",
    "             'min_samples_leaf' : [1, 2, 5],\n",
    "             'min_samples_split' : [2, 4, 6]}\n",
    "\n",
    "# Scoring\n",
    "scoring = {'f1' : 'f1', \n",
    "           'accuracy' : 'accuracy', \n",
    "           'precision' : 'precision', \n",
    "           'recall' : 'recall', \n",
    "           'roc_auc' : 'roc_auc'}\n",
    "\n",
    "# Instantiate GridSearch\n",
    "tree_cv1 = GridSearchCV(tree, cv_params, scoring=scoring, cv=5, refit='roc_auc', verbose=True, n_jobs=-1) \n"
   ]
  },
  {
   "cell_type": "markdown",
   "metadata": {},
   "source": [
    "Fit the decision tree model to the training data."
   ]
  },
  {
   "cell_type": "code",
   "execution_count": null,
   "metadata": {
    "execution": {
     "iopub.execute_input": "2023-09-28T18:13:50.394009Z",
     "iopub.status.busy": "2023-09-28T18:13:50.393522Z",
     "iopub.status.idle": "2023-09-28T18:13:55.511582Z",
     "shell.execute_reply": "2023-09-28T18:13:55.509929Z",
     "shell.execute_reply.started": "2023-09-28T18:13:50.393974Z"
    }
   },
   "outputs": [],
   "source": [
    "%%time\n",
    "tree_cv1.fit(X_train, y_train)"
   ]
  },
  {
   "cell_type": "code",
   "execution_count": null,
   "metadata": {},
   "outputs": [],
   "source": [
    "# Define saving path\n",
    "path = '../data/results/'\n",
    "\n",
    "# Write pickle\n",
    "write_pickle(path, tree_cv1, 'hr_dt1')"
   ]
  },
  {
   "cell_type": "code",
   "execution_count": null,
   "metadata": {
    "execution": {
     "iopub.execute_input": "2023-09-28T18:14:31.49446Z",
     "iopub.status.busy": "2023-09-28T18:14:31.493875Z",
     "iopub.status.idle": "2023-09-28T18:14:31.503736Z",
     "shell.execute_reply": "2023-09-28T18:14:31.50265Z",
     "shell.execute_reply.started": "2023-09-28T18:14:31.494381Z"
    }
   },
   "outputs": [],
   "source": [
    "# Best parameters\n",
    "tree_cv1.best_params_"
   ]
  },
  {
   "cell_type": "code",
   "execution_count": null,
   "metadata": {
    "execution": {
     "iopub.execute_input": "2023-09-28T18:14:35.372861Z",
     "iopub.status.busy": "2023-09-28T18:14:35.372296Z",
     "iopub.status.idle": "2023-09-28T18:14:35.381985Z",
     "shell.execute_reply": "2023-09-28T18:14:35.380831Z",
     "shell.execute_reply.started": "2023-09-28T18:14:35.372817Z"
    }
   },
   "outputs": [],
   "source": [
    "# Best score\n",
    "tree_cv1.best_score_"
   ]
  },
  {
   "cell_type": "markdown",
   "metadata": {},
   "source": [
    "This is a strong AUC score, which shows that this model can predict employees who will leave very well."
   ]
  },
  {
   "cell_type": "markdown",
   "metadata": {},
   "source": [
    "Use utility function to get all the scores from grid search."
   ]
  },
  {
   "cell_type": "code",
   "execution_count": null,
   "metadata": {
    "execution": {
     "iopub.execute_input": "2023-09-28T18:15:23.334757Z",
     "iopub.status.busy": "2023-09-28T18:15:23.334333Z",
     "iopub.status.idle": "2023-09-28T18:15:23.359918Z",
     "shell.execute_reply": "2023-09-28T18:15:23.358332Z",
     "shell.execute_reply.started": "2023-09-28T18:15:23.334722Z"
    }
   },
   "outputs": [],
   "source": [
    "# Load `model_results` DataFrame\n",
    "results = pd.read_csv(model_results_path)\n",
    "\n",
    "# Get all CV scores\n",
    "tree1_cv_results = make_results('decision tree cv', tree_cv1, 'auc')\n",
    "\n",
    "# Show model results\n",
    "tree1_cv_results"
   ]
  },
  {
   "cell_type": "code",
   "execution_count": null,
   "metadata": {},
   "outputs": [],
   "source": [
    "# Update `results` DataFrame\n",
    "results = pd.concat([results, tree1_cv_results], axis=0)\n",
    "\n",
    "# Sort 'results' by F1-score\n",
    "results = results.sort_values(by='F1', ascending=False).reset_index(drop=True)\n",
    "\n",
    "# Compare results to other saved results\n",
    "results"
   ]
  },
  {
   "cell_type": "markdown",
   "metadata": {},
   "source": [
    "All of these scores from the decision tree model are strong indicators of good model performance."
   ]
  },
  {
   "cell_type": "code",
   "execution_count": null,
   "metadata": {
    "execution": {
     "iopub.execute_input": "2023-09-28T18:22:12.076879Z",
     "iopub.status.busy": "2023-09-28T18:22:12.076458Z",
     "iopub.status.idle": "2023-09-28T18:22:12.112965Z",
     "shell.execute_reply": "2023-09-28T18:22:12.111613Z",
     "shell.execute_reply.started": "2023-09-28T18:22:12.076848Z"
    }
   },
   "outputs": [],
   "source": [
    "# Get predictions from test data\n",
    "tree_test_scores = get_scores('decision tree test', tree_cv1, X_test, y_test)\n",
    "\n",
    "# Update `results` DataFrame\n",
    "results = pd.concat([results, tree_test_scores], axis=0)\n",
    "\n",
    "# Sort 'results' by F1-score\n",
    "results = results.sort_values(by='F1', ascending=False).reset_index(drop=True)\n",
    "\n",
    "# Save `results` DataFrame\n",
    "results.to_csv('../model/model_results.csv', index=False)\n",
    "\n",
    "# Display `results` Dataframe\n",
    "results"
   ]
  },
  {
   "cell_type": "markdown",
   "metadata": {},
   "source": [
    "## Tree Visualisation"
   ]
  },
  {
   "cell_type": "code",
   "execution_count": null,
   "metadata": {
    "execution": {
     "iopub.execute_input": "2023-09-28T20:30:02.306301Z",
     "iopub.status.busy": "2023-09-28T20:30:02.305741Z",
     "iopub.status.idle": "2023-09-28T20:30:04.772725Z",
     "shell.execute_reply": "2023-09-28T20:30:04.771073Z",
     "shell.execute_reply.started": "2023-09-28T20:30:02.306265Z"
    }
   },
   "outputs": [],
   "source": [
    "# Extract column names\n",
    "feature_names = list(X.columns)\n",
    "\n",
    "# Class names\n",
    "class_names = ['stayed', 'left']\n",
    "\n",
    "# Plot the tree\n",
    "plt.figure(figsize=(85,20))\n",
    "plot_tree(tree_cv1.best_estimator_, \n",
    "          max_depth=6, fontsize=14, \n",
    "          feature_names=feature_names, \n",
    "          class_names=class_names, \n",
    "          filled=True);\n",
    "plt.show()"
   ]
  },
  {
   "cell_type": "markdown",
   "metadata": {},
   "source": [
    "## Feature Importance"
   ]
  },
  {
   "cell_type": "code",
   "execution_count": null,
   "metadata": {
    "execution": {
     "iopub.execute_input": "2023-09-28T20:30:09.515778Z",
     "iopub.status.busy": "2023-09-28T20:30:09.515277Z",
     "iopub.status.idle": "2023-09-28T20:30:09.535072Z",
     "shell.execute_reply": "2023-09-28T20:30:09.533851Z",
     "shell.execute_reply.started": "2023-09-28T20:30:09.515743Z"
    }
   },
   "outputs": [],
   "source": [
    "tree_importances = pd.DataFrame(tree_cv1.best_estimator_.feature_importances_, \n",
    "                                 columns=['gini_importance'], \n",
    "                                 index=X.columns\n",
    "                                )\n",
    "tree_importances = tree_importances.sort_values(by='gini_importance', ascending=False)\n",
    "\n",
    "# Only extract the features with importances > 0\n",
    "tree_importances = tree_importances[tree_importances['gini_importance'] != 0]\n",
    "tree_importances"
   ]
  },
  {
   "cell_type": "code",
   "execution_count": null,
   "metadata": {
    "execution": {
     "iopub.execute_input": "2023-09-28T20:31:40.687276Z",
     "iopub.status.busy": "2023-09-28T20:31:40.686589Z",
     "iopub.status.idle": "2023-09-28T20:31:40.986795Z",
     "shell.execute_reply": "2023-09-28T20:31:40.985114Z",
     "shell.execute_reply.started": "2023-09-28T20:31:40.687234Z"
    }
   },
   "outputs": [],
   "source": [
    "sns.barplot(data=tree_importances, x=\"gini_importance\", y=tree_importances.index, orient='h')\n",
    "plt.title(\"Decision Tree: Feature Importances for Employee Leaving\", fontsize=12)\n",
    "plt.ylabel(\"Feature\")\n",
    "plt.xlabel(\"Importance\")\n",
    "plt.show()"
   ]
  }
 ],
 "metadata": {
  "kernelspec": {
   "display_name": "Python 3",
   "language": "python",
   "name": "python3"
  },
  "language_info": {
   "codemirror_mode": {
    "name": "ipython",
    "version": 3
   },
   "file_extension": ".py",
   "mimetype": "text/x-python",
   "name": "python",
   "nbconvert_exporter": "python",
   "pygments_lexer": "ipython3",
   "version": "3.6.4"
  }
 },
 "nbformat": 4,
 "nbformat_minor": 4
}
