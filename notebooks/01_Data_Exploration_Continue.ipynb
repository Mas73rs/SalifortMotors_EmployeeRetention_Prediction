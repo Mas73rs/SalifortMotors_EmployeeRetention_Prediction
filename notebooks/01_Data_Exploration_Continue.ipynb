{
 "cells": [
  {
   "cell_type": "markdown",
   "metadata": {
    "id": "KDcWrk57kao2"
   },
   "source": [
    "## Data Exploration (Continue EDA)\n",
    "\n",
    "we will begin by understanding how many employees left and what percentage of all employees this figure represents."
   ]
  },
  {
   "cell_type": "code",
   "execution_count": null,
   "metadata": {
    "execution": {
     "iopub.execute_input": "2023-09-28T17:01:33.87254Z",
     "iopub.status.busy": "2023-09-28T17:01:33.871828Z",
     "iopub.status.idle": "2023-09-28T17:01:33.885778Z",
     "shell.execute_reply": "2023-09-28T17:01:33.884358Z",
     "shell.execute_reply.started": "2023-09-28T17:01:33.872488Z"
    }
   },
   "outputs": [],
   "source": [
    "# Get numbers of people who left vs. stayed\n",
    "num_left = len(df[df['left'] == 1])\n",
    "num_stayed = len(df) - num_left\n",
    "print(f\"Number of employees that left : {num_left}\")\n",
    "print(f\"Number of employees that stayed : {num_stayed}\")\n",
    "\n",
    "# Get percentages of people who left vs. stayed\n",
    "print(f\"Percentage leaving : {num_left / len(df) * 100 :.2f} %\")\n",
    "print(f\"Percentage staying : {num_stayed / len(df) * 100 :.2f} %\")"
   ]
  },
  {
   "cell_type": "markdown",
   "metadata": {},
   "source": [
    "There are 16.6% employees leaving the company. That is close to a fifth of total number of employees."
   ]
  },
  {
   "cell_type": "markdown",
   "metadata": {
    "id": "DmVMzXPSuYk1"
   },
   "source": [
    "### Data visualisations"
   ]
  },
  {
   "cell_type": "code",
   "execution_count": null,
   "metadata": {
    "execution": {
     "iopub.execute_input": "2023-09-28T17:02:53.990152Z",
     "iopub.status.busy": "2023-09-28T17:02:53.98969Z",
     "iopub.status.idle": "2023-09-28T17:02:54.995887Z",
     "shell.execute_reply": "2023-09-28T17:02:54.994401Z",
     "shell.execute_reply.started": "2023-09-28T17:02:53.990116Z"
    },
    "id": "Qf0VbjX8-DBQ"
   },
   "outputs": [],
   "source": [
    "# Set figure and axes\n",
    "fig, ax = plt.subplots(1, 2, figsize=(22, 8))\n",
    "\n",
    "# Create boxplot showing `average_monthly_hours` distributions for `number_project`, comparing employees who stayed versus those who left\n",
    "sns.boxplot(x=\"average_monthly_hours\", y=\"number_project\", data=df, hue='left', orient='h', ax=ax[0])\n",
    "ax[0].invert_yaxis()\n",
    "ax[0].set_xlabel(\"Average Monthly Hours\")\n",
    "ax[0].set_ylabel(\"Number of Projects\")\n",
    "ax[0].set_title(\"Monthly Hours by number of projects\")\n",
    "\n",
    "# Create histogram showing distribution of `number_project`, comparing employees who stayed versus those who left\n",
    "sns.histplot(x='number_project', data=df, hue='left', multiple='dodge', shrink=3, ax=ax[1])\n",
    "ax[1].set_xlabel(\"Number of Projects\")\n",
    "ax[1].set_title(\"Distribution of Number of Projects\")\n",
    "\n",
    "# Display the plots\n",
    "plt.show();"
   ]
  },
  {
   "cell_type": "markdown",
   "metadata": {},
   "source": [
    "Employees who work on more projects also tend to work longer hours. This is evident from the increasing mean hours for both groups (stayed and left) as the number of projects worked increases. However, upon closer inspection, two distinct groups of employees left the company. The first group worked considerably less than their peers with the same number of projects, and the second group worked much more. The former group may have been fired or were already out the door, while the latter likely quit. It's reasonable to assume that employees in the second group were significant contributors to their projects.\n",
    "\n",
    "Interestingly, everyone with seven projects left the company, and the interquartile ranges of this group and those who left with six projects were much higher than any other group. The data suggests that the optimal number of projects for employees to work on is 3-4, as the ratio of left/stayed is much smaller for these cohorts.\n",
    "\n",
    "Assuming a work week of 40 hours and two weeks of vacation per year, the average number of working hours per month for employees working Monday-Friday is 166.67 hours per month. Except for employees who worked on two projects, every group worked considerably more than this, indicating that employees at this company may be overworked."
   ]
  },
  {
   "cell_type": "markdown",
   "metadata": {},
   "source": [
    "We will now investigate the average monthly hours versus the satisfaction levels"
   ]
  },
  {
   "cell_type": "code",
   "execution_count": null,
   "metadata": {
    "execution": {
     "iopub.execute_input": "2023-09-28T17:04:37.622748Z",
     "iopub.status.busy": "2023-09-28T17:04:37.622291Z",
     "iopub.status.idle": "2023-09-28T17:04:39.170434Z",
     "shell.execute_reply": "2023-09-28T17:04:39.169161Z",
     "shell.execute_reply.started": "2023-09-28T17:04:37.622709Z"
    },
    "id": "F8HlhjMy9X3A"
   },
   "outputs": [],
   "source": [
    "# Create a plot as needed\n",
    "# Create scatterplot of `average_monthly_hours` versus `satisfaction_level`, comparing employees who stayed versus those who left\n",
    "plt.figure(figsize=(16, 9))\n",
    "sns.scatterplot(data=df, x='average_monthly_hours', y='satisfaction_level', hue='left', alpha=0.4)\n",
    "plt.axvline(x=166.67, color='#ff6361', label='166.67 hrs./mo.', ls='--')\n",
    "plt.legend(labels=['166.67 hrs./mo.', 'left', 'stayed'])\n",
    "plt.title('Monthly hours by last evaluation score', fontsize='14');"
   ]
  },
  {
   "cell_type": "markdown",
   "metadata": {},
   "source": [
    "Looking at the chart provided, many employees worked between 240 and 315 hours per month. To put this into perspective, that's over 75 hours per week for an entire year. This may have contributed to their low levels of satisfaction.\n",
    "\n",
    "Additionally, there is another group of individuals who left the company, and they had more typical working hours. However, their satisfaction levels were still relatively low, hovering around 0.4. It's difficult to say why they may have left, but it's possible that they felt pressured to work longer hours due to their peers working more.\n",
    "\n",
    "On the other hand, a group of employees worked between 210 and 280 hours per month, and they had higher satisfaction levels ranging from 0.7 to 0.9. However, the strange distribution shape of the data suggests that there may have been some manipulation or synthetic data involved."
   ]
  },
  {
   "cell_type": "markdown",
   "metadata": {},
   "source": [
    "Next, we examine salary levels for different tenures."
   ]
  },
  {
   "cell_type": "code",
   "execution_count": null,
   "metadata": {
    "execution": {
     "iopub.execute_input": "2023-09-28T17:21:30.379999Z",
     "iopub.status.busy": "2023-09-28T17:21:30.379574Z",
     "iopub.status.idle": "2023-09-28T17:21:31.32723Z",
     "shell.execute_reply": "2023-09-28T17:21:31.325682Z",
     "shell.execute_reply.started": "2023-09-28T17:21:30.37996Z"
    },
    "id": "3v1uJR5y3MEy"
   },
   "outputs": [],
   "source": [
    "# Set figure and axes\n",
    "fig, ax = plt.subplots(1, 2, figsize = (22,8))\n",
    "\n",
    "# Define short-tenured employees\n",
    "tenure_short = df[df['tenure'] < 7]\n",
    "\n",
    "# Define long-tenured employees\n",
    "tenure_long = df[df['tenure'] > 6]\n",
    "\n",
    "# Plot short-tenured histogram\n",
    "sns.histplot(data=tenure_short, x='tenure', hue='salary', discrete=1, \n",
    "             hue_order=['low', 'medium', 'high'], multiple='dodge', shrink=.5, ax=ax[0])\n",
    "ax[0].set_title('Salary histogram by tenure: short-tenured people', fontsize='14')\n",
    "\n",
    "# Plot long-tenured histogram\n",
    "sns.histplot(data=tenure_long, x='tenure', hue='salary', discrete=1, \n",
    "             hue_order=['low', 'medium', 'high'], multiple='dodge', shrink=.4, ax=ax[1])\n",
    "ax[1].set_title('Salary histogram by tenure: long-tenured people', fontsize='14');\n"
   ]
  },
  {
   "cell_type": "markdown",
   "metadata": {},
   "source": [
    "The plots above show that long-tenured employees were not disproportionately comprised of higher-paid employees."
   ]
  },
  {
   "cell_type": "code",
   "execution_count": null,
   "metadata": {
    "execution": {
     "iopub.execute_input": "2023-09-28T17:22:27.979818Z",
     "iopub.status.busy": "2023-09-28T17:22:27.979166Z",
     "iopub.status.idle": "2023-09-28T17:22:29.996037Z",
     "shell.execute_reply": "2023-09-28T17:22:29.993395Z",
     "shell.execute_reply.started": "2023-09-28T17:22:27.97963Z"
    },
    "id": "UCVs81NILbhn"
   },
   "outputs": [],
   "source": [
    "# Create scatterplot of `average_monthly_hours` versus `last_evaluation`\n",
    "plt.figure(figsize=(16, 9))\n",
    "sns.scatterplot(data=df, x='average_monthly_hours', y='last_evaluation', hue='left', alpha=0.4)\n",
    "plt.axvline(x=166.67, color='#ff6361', label='166.67 hrs./mo.', ls='--')\n",
    "plt.legend(labels=['166.67 hrs./mo.', 'left', 'stayed'])\n",
    "plt.title('Monthly hours by last evaluation score', fontsize='14');"
   ]
  },
  {
   "cell_type": "markdown",
   "metadata": {},
   "source": [
    "From the scatterplot above, we can deduce that two categories of employees have resigned. The first group comprises overworked employees who have performed exceptionally well. In contrast, the second group consists of employees who have worked slightly below the nominal monthly average of 166.67 hours and have lower evaluation scores. There is a correlation between the number of hours worked and the evaluation score. The plot has few employees in the upper left quadrant, indicating that working long hours does not always guarantee a good evaluation score. Furthermore, most of the employees in this company work well over 167 hours per month."
   ]
  },
  {
   "cell_type": "code",
   "execution_count": null,
   "metadata": {
    "execution": {
     "iopub.execute_input": "2023-09-28T17:24:43.082037Z",
     "iopub.status.busy": "2023-09-28T17:24:43.081027Z",
     "iopub.status.idle": "2023-09-28T17:24:44.643367Z",
     "shell.execute_reply": "2023-09-28T17:24:44.642118Z",
     "shell.execute_reply.started": "2023-09-28T17:24:43.081975Z"
    },
    "id": "cGitCvzvdbjF"
   },
   "outputs": [],
   "source": [
    "# Create plot to examine relationship between `average_monthly_hours` and `promotion_last_5years`\n",
    "plt.figure(figsize=(16, 3))\n",
    "sns.scatterplot(data=df, x='average_monthly_hours', y='promotion_last_5years', hue='left', alpha=0.4)\n",
    "plt.axvline(x=166.67, color='#ff6361', ls='--')\n",
    "plt.legend(labels=['166.67 hrs./mo.', 'left', 'stayed'])\n",
    "plt.title('Monthly hours by promotion last 5 years', fontsize='14');"
   ]
  },
  {
   "cell_type": "markdown",
   "metadata": {},
   "source": [
    "The plot above shows the following:\n",
    "\n",
    "* very few employees who were promoted in the last five years left\n",
    "* very few employees who worked the most hours were promoted\n",
    "* all of the employees who left were working the longest hours"
   ]
  },
  {
   "cell_type": "code",
   "execution_count": null,
   "metadata": {
    "execution": {
     "iopub.execute_input": "2023-09-28T17:25:40.277929Z",
     "iopub.status.busy": "2023-09-28T17:25:40.277464Z",
     "iopub.status.idle": "2023-09-28T17:25:40.801322Z",
     "shell.execute_reply": "2023-09-28T17:25:40.800158Z",
     "shell.execute_reply.started": "2023-09-28T17:25:40.277886Z"
    },
    "id": "6TyBo1uxsSpc"
   },
   "outputs": [],
   "source": [
    "# Create stacked histogram to compare department distribution of employees who left to that of employees who didn't\n",
    "plt.figure(figsize=(11,8))\n",
    "sns.histplot(data=df, x='department', hue='left', discrete=1, \n",
    "             hue_order=[0, 1], multiple='dodge', shrink=.5)\n",
    "plt.xticks(rotation=45)\n",
    "plt.title('Counts of stayed/left by department', fontsize=14);"
   ]
  },
  {
   "cell_type": "markdown",
   "metadata": {},
   "source": [
    "There doesn't seem to be any department that differs significantly in its proportion of employees who left to those who stayed."
   ]
  },
  {
   "cell_type": "code",
   "execution_count": null,
   "metadata": {
    "execution": {
     "iopub.execute_input": "2023-09-28T17:29:58.232312Z",
     "iopub.status.busy": "2023-09-28T17:29:58.231795Z",
     "iopub.status.idle": "2023-09-28T17:29:59.030946Z",
     "shell.execute_reply": "2023-09-28T17:29:59.029819Z",
     "shell.execute_reply.started": "2023-09-28T17:29:58.232273Z"
    },
    "id": "lfo96dwwruZd"
   },
   "outputs": [],
   "source": [
    "# Keep only numeric columns \n",
    "numeric_cols = df_raw.select_dtypes(include=[np.number]).columns\n",
    "df_num = df_raw[numeric_cols]\n",
    "\n",
    "# Plot a correlation heatmap\n",
    "plt.figure(figsize=(16, 9))\n",
    "heatmap = sns.heatmap(df_num.corr(), vmin=-1, vmax=1, annot=True, cmap=sns.color_palette(\"vlag\", as_cmap=True))\n",
    "heatmap.set_title('Correlation Heatmap', fontdict={'fontsize':14}, pad=12);"
   ]
  },
  {
   "cell_type": "markdown",
   "metadata": {},
   "source": [
    "The correlation heatmap shows a positive relationship between the number of projects, monthly hours, and evaluation scores. Additionally, an employee's satisfaction level negatively correlates with whether they decide to leave the company."
   ]
  },
  {
   "cell_type": "markdown",
   "metadata": {
    "id": "DeTmNVlAANLd"
   },
   "source": [
    "### Insights\n",
    "\n",
    "Based on the observations, some workers quit their jobs due to unsatisfactory management. This decision is influenced by extended working hours, numerous projects, and decreased job contentment. Being overworked without receiving recognition or positive performance reviews can be disheartening. Additionally, a significant number of employees may be experiencing burnout. Interestingly, those who have worked at the company for over six years tend to stay."
   ]
  },
  {
   "cell_type": "markdown",
   "metadata": {
    "id": "Lca9c8XON8lc"
   },
   "source": [
    "## Model Building\n",
    "\n",
    "- Determine which models are most appropriate\n",
    "- Construct the model\n",
    "- Confirm model assumptions\n",
    "- Evaluate model results to determine how well your model fits the data\n"
   ]
  }
 ],
 "metadata": {
  "kernelspec": {
   "display_name": "Python 3",
   "language": "python",
   "name": "python3"
  },
  "language_info": {
   "codemirror_mode": {
    "name": "ipython",
    "version": 3
   },
   "file_extension": ".py",
   "mimetype": "text/x-python",
   "name": "python",
   "nbconvert_exporter": "python",
   "pygments_lexer": "ipython3",
   "version": "3.6.4"
  }
 },
 "nbformat": 4,
 "nbformat_minor": 4
}
