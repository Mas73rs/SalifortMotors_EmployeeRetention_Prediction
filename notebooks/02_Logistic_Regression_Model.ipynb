{
 "cells": [
  {
   "cell_type": "markdown",
   "metadata": {
    "id": "Bf2BU6B1QmTg"
   },
   "source": [
    "# Logistic Regression"
   ]
  },
  {
   "cell_type": "markdown",
   "metadata": {},
   "source": [
    "## Model assumptions\n",
    "\n",
    "- Outcome variable is categorical\n",
    "- Observations are independent of each other\n",
    "- No severe multicollinearity among X variables\n",
    "- No extreme outliers\n",
    "- Linear relationship between each X variable and the logit of the outcome variable\n",
    "- Sufficiently large sample size"
   ]
  },
  {
   "cell_type": "code",
   "execution_count": 1,
   "metadata": {},
   "outputs": [],
   "source": [
    "# Imports\n",
    "import sys\n",
    "\n",
    "# Adds the utils directory to the PYTHONPATH\n",
    "sys.path.append(\"../utils\")  \n",
    "\n",
    "# Imports everything from common_imports.py\n",
    "from common_imports import *  \n",
    "\n",
    "# Adds the project root to the PYTHONPATH\n",
    "sys.path.append(\"..\")  \n",
    "\n",
    "# Load cleaned dataset\n",
    "from config import *\n",
    "df = pd.read_csv(cleaned_data_path)"
   ]
  },
  {
   "cell_type": "code",
   "execution_count": 3,
   "metadata": {
    "execution": {
     "iopub.execute_input": "2023-09-28T17:46:01.98927Z",
     "iopub.status.busy": "2023-09-28T17:46:01.988877Z",
     "iopub.status.idle": "2023-09-28T17:46:02.024639Z",
     "shell.execute_reply": "2023-09-28T17:46:02.023475Z",
     "shell.execute_reply.started": "2023-09-28T17:46:01.989229Z"
    }
   },
   "outputs": [
    {
     "data": {
      "text/html": [
       "<div>\n",
       "<style scoped>\n",
       "    .dataframe tbody tr th:only-of-type {\n",
       "        vertical-align: middle;\n",
       "    }\n",
       "\n",
       "    .dataframe tbody tr th {\n",
       "        vertical-align: top;\n",
       "    }\n",
       "\n",
       "    .dataframe thead th {\n",
       "        text-align: right;\n",
       "    }\n",
       "</style>\n",
       "<table border=\"1\" class=\"dataframe\">\n",
       "  <thead>\n",
       "    <tr style=\"text-align: right;\">\n",
       "      <th></th>\n",
       "      <th>satisfaction_level</th>\n",
       "      <th>last_evaluation</th>\n",
       "      <th>number_project</th>\n",
       "      <th>average_monthly_hours</th>\n",
       "      <th>tenure</th>\n",
       "      <th>work_accident</th>\n",
       "      <th>left</th>\n",
       "      <th>promotion_last_5years</th>\n",
       "      <th>salary</th>\n",
       "      <th>department_RandD</th>\n",
       "      <th>department_accounting</th>\n",
       "      <th>department_hr</th>\n",
       "      <th>department_management</th>\n",
       "      <th>department_marketing</th>\n",
       "      <th>department_product_mng</th>\n",
       "      <th>department_sales</th>\n",
       "      <th>department_support</th>\n",
       "      <th>department_technical</th>\n",
       "    </tr>\n",
       "  </thead>\n",
       "  <tbody>\n",
       "    <tr>\n",
       "      <th>0</th>\n",
       "      <td>0.38</td>\n",
       "      <td>0.53</td>\n",
       "      <td>2</td>\n",
       "      <td>157</td>\n",
       "      <td>3</td>\n",
       "      <td>0</td>\n",
       "      <td>1</td>\n",
       "      <td>0</td>\n",
       "      <td>0</td>\n",
       "      <td>0</td>\n",
       "      <td>0</td>\n",
       "      <td>0</td>\n",
       "      <td>0</td>\n",
       "      <td>0</td>\n",
       "      <td>0</td>\n",
       "      <td>1</td>\n",
       "      <td>0</td>\n",
       "      <td>0</td>\n",
       "    </tr>\n",
       "    <tr>\n",
       "      <th>1</th>\n",
       "      <td>0.80</td>\n",
       "      <td>0.86</td>\n",
       "      <td>5</td>\n",
       "      <td>262</td>\n",
       "      <td>6</td>\n",
       "      <td>0</td>\n",
       "      <td>1</td>\n",
       "      <td>0</td>\n",
       "      <td>1</td>\n",
       "      <td>0</td>\n",
       "      <td>0</td>\n",
       "      <td>0</td>\n",
       "      <td>0</td>\n",
       "      <td>0</td>\n",
       "      <td>0</td>\n",
       "      <td>1</td>\n",
       "      <td>0</td>\n",
       "      <td>0</td>\n",
       "    </tr>\n",
       "    <tr>\n",
       "      <th>2</th>\n",
       "      <td>0.11</td>\n",
       "      <td>0.88</td>\n",
       "      <td>7</td>\n",
       "      <td>272</td>\n",
       "      <td>4</td>\n",
       "      <td>0</td>\n",
       "      <td>1</td>\n",
       "      <td>0</td>\n",
       "      <td>1</td>\n",
       "      <td>0</td>\n",
       "      <td>0</td>\n",
       "      <td>0</td>\n",
       "      <td>0</td>\n",
       "      <td>0</td>\n",
       "      <td>0</td>\n",
       "      <td>1</td>\n",
       "      <td>0</td>\n",
       "      <td>0</td>\n",
       "    </tr>\n",
       "    <tr>\n",
       "      <th>3</th>\n",
       "      <td>0.72</td>\n",
       "      <td>0.87</td>\n",
       "      <td>5</td>\n",
       "      <td>223</td>\n",
       "      <td>5</td>\n",
       "      <td>0</td>\n",
       "      <td>1</td>\n",
       "      <td>0</td>\n",
       "      <td>0</td>\n",
       "      <td>0</td>\n",
       "      <td>0</td>\n",
       "      <td>0</td>\n",
       "      <td>0</td>\n",
       "      <td>0</td>\n",
       "      <td>0</td>\n",
       "      <td>1</td>\n",
       "      <td>0</td>\n",
       "      <td>0</td>\n",
       "    </tr>\n",
       "    <tr>\n",
       "      <th>4</th>\n",
       "      <td>0.37</td>\n",
       "      <td>0.52</td>\n",
       "      <td>2</td>\n",
       "      <td>159</td>\n",
       "      <td>3</td>\n",
       "      <td>0</td>\n",
       "      <td>1</td>\n",
       "      <td>0</td>\n",
       "      <td>0</td>\n",
       "      <td>0</td>\n",
       "      <td>0</td>\n",
       "      <td>0</td>\n",
       "      <td>0</td>\n",
       "      <td>0</td>\n",
       "      <td>0</td>\n",
       "      <td>1</td>\n",
       "      <td>0</td>\n",
       "      <td>0</td>\n",
       "    </tr>\n",
       "  </tbody>\n",
       "</table>\n",
       "</div>"
      ],
      "text/plain": [
       "   satisfaction_level  last_evaluation  number_project  average_monthly_hours  \\\n",
       "0                0.38             0.53               2                    157   \n",
       "1                0.80             0.86               5                    262   \n",
       "2                0.11             0.88               7                    272   \n",
       "3                0.72             0.87               5                    223   \n",
       "4                0.37             0.52               2                    159   \n",
       "\n",
       "   tenure  work_accident  left  promotion_last_5years  salary  \\\n",
       "0       3              0     1                      0       0   \n",
       "1       6              0     1                      0       1   \n",
       "2       4              0     1                      0       1   \n",
       "3       5              0     1                      0       0   \n",
       "4       3              0     1                      0       0   \n",
       "\n",
       "   department_RandD  department_accounting  department_hr  \\\n",
       "0                 0                      0              0   \n",
       "1                 0                      0              0   \n",
       "2                 0                      0              0   \n",
       "3                 0                      0              0   \n",
       "4                 0                      0              0   \n",
       "\n",
       "   department_management  department_marketing  department_product_mng  \\\n",
       "0                      0                     0                       0   \n",
       "1                      0                     0                       0   \n",
       "2                      0                     0                       0   \n",
       "3                      0                     0                       0   \n",
       "4                      0                     0                       0   \n",
       "\n",
       "   department_sales  department_support  department_technical  \n",
       "0                 1                   0                     0  \n",
       "1                 1                   0                     0  \n",
       "2                 1                   0                     0  \n",
       "3                 1                   0                     0  \n",
       "4                 1                   0                     0  "
      ]
     },
     "execution_count": 3,
     "metadata": {},
     "output_type": "execute_result"
    }
   ],
   "source": [
    "# Copy dataframe\n",
    "df_enc = df.copy()\n",
    "\n",
    "# Encode `salary` column as ordinal numeric category\n",
    "salary_cat = ['low', 'medium', 'high']\n",
    "df_enc['salary'] = (df_enc['salary'].astype('category').cat.set_categories(salary_cat).cat.codes)\n",
    "\n",
    "# Dummy encode the `department` column\n",
    "df_enc = pd.get_dummies(df_enc, drop_first=True)\n",
    "\n",
    "# Display the new dataframe\n",
    "df_enc.head()"
   ]
  },
  {
   "cell_type": "markdown",
   "metadata": {},
   "source": [
    "Heatmap to visualize how correlated variables are."
   ]
  },
  {
   "cell_type": "code",
   "execution_count": 4,
   "metadata": {
    "execution": {
     "iopub.execute_input": "2023-09-28T17:46:34.273478Z",
     "iopub.status.busy": "2023-09-28T17:46:34.273037Z",
     "iopub.status.idle": "2023-09-28T17:46:34.700366Z",
     "shell.execute_reply": "2023-09-28T17:46:34.699015Z",
     "shell.execute_reply.started": "2023-09-28T17:46:34.273443Z"
    }
   },
   "outputs": [
    {
     "data": {
      "image/png": "[encoded data removed]",
      "text/plain": [
       "<Figure size 800x400 with 2 Axes>"
      ]
     },
     "metadata": {},
     "output_type": "display_data"
    }
   ],
   "source": [
    "sub = ['satisfaction_level', 'last_evaluation', 'number_project', 'average_monthly_hours', 'tenure']\n",
    "fig = plt.subplots(figsize=(8, 4))\n",
    "sns.heatmap(df_enc[sub].corr(), annot=True, cmap=\"crest\")\n",
    "plt.title('Heatmap of the dataset')\n",
    "plt.show()"
   ]
  },
  {
   "cell_type": "markdown",
   "metadata": {},
   "source": [
    "## Outliers"
   ]
  },
  {
   "cell_type": "markdown",
   "metadata": {},
   "source": [
    "Since logistic regression is quite sensitive to outliers, it would be a good idea at this stage to remove the outliers in the tenure column that were identified earlier."
   ]
  },
  {
   "cell_type": "code",
   "execution_count": 5,
   "metadata": {
    "execution": {
     "iopub.execute_input": "2023-09-28T17:47:27.302204Z",
     "iopub.status.busy": "2023-09-28T17:47:27.30177Z",
     "iopub.status.idle": "2023-09-28T17:47:27.312401Z",
     "shell.execute_reply": "2023-09-28T17:47:27.311438Z",
     "shell.execute_reply.started": "2023-09-28T17:47:27.302159Z"
    }
   },
   "outputs": [],
   "source": [
    "# Compute 25th percentile\n",
    "percent_25 = df['tenure'].quantile(0.25)\n",
    "\n",
    "# Compute 75th percentile\n",
    "percent_75 = df['tenure'].quantile(0.75)\n",
    "\n",
    "# Compute interquantile range\n",
    "iqr = percent_75 - percent_25\n",
    "\n",
    "# Define upper and lower limits for non-oulier values in column\n",
    "upper_limit = percent_75 + 1.5 * iqr\n",
    "lower_limit = percent_25 - 1.5 * iqr"
   ]
  },
  {
   "cell_type": "code",
   "execution_count": 6,
   "metadata": {
    "execution": {
     "iopub.execute_input": "2023-09-28T17:49:29.035116Z",
     "iopub.status.busy": "2023-09-28T17:49:29.034643Z",
     "iopub.status.idle": "2023-09-28T17:49:29.063997Z",
     "shell.execute_reply": "2023-09-28T17:49:29.062814Z",
     "shell.execute_reply.started": "2023-09-28T17:49:29.035082Z"
    }
   },
   "outputs": [
    {
     "data": {
      "text/html": [
       "<div>\n",
       "<style scoped>\n",
       "    .dataframe tbody tr th:only-of-type {\n",
       "        vertical-align: middle;\n",
       "    }\n",
       "\n",
       "    .dataframe tbody tr th {\n",
       "        vertical-align: top;\n",
       "    }\n",
       "\n",
       "    .dataframe thead th {\n",
       "        text-align: right;\n",
       "    }\n",
       "</style>\n",
       "<table border=\"1\" class=\"dataframe\">\n",
       "  <thead>\n",
       "    <tr style=\"text-align: right;\">\n",
       "      <th></th>\n",
       "      <th>satisfaction_level</th>\n",
       "      <th>last_evaluation</th>\n",
       "      <th>number_project</th>\n",
       "      <th>average_monthly_hours</th>\n",
       "      <th>tenure</th>\n",
       "      <th>work_accident</th>\n",
       "      <th>left</th>\n",
       "      <th>promotion_last_5years</th>\n",
       "      <th>salary</th>\n",
       "      <th>department_RandD</th>\n",
       "      <th>department_accounting</th>\n",
       "      <th>department_hr</th>\n",
       "      <th>department_management</th>\n",
       "      <th>department_marketing</th>\n",
       "      <th>department_product_mng</th>\n",
       "      <th>department_sales</th>\n",
       "      <th>department_support</th>\n",
       "      <th>department_technical</th>\n",
       "    </tr>\n",
       "  </thead>\n",
       "  <tbody>\n",
       "    <tr>\n",
       "      <th>0</th>\n",
       "      <td>0.38</td>\n",
       "      <td>0.53</td>\n",
       "      <td>2</td>\n",
       "      <td>157</td>\n",
       "      <td>3</td>\n",
       "      <td>0</td>\n",
       "      <td>1</td>\n",
       "      <td>0</td>\n",
       "      <td>0</td>\n",
       "      <td>0</td>\n",
       "      <td>0</td>\n",
       "      <td>0</td>\n",
       "      <td>0</td>\n",
       "      <td>0</td>\n",
       "      <td>0</td>\n",
       "      <td>1</td>\n",
       "      <td>0</td>\n",
       "      <td>0</td>\n",
       "    </tr>\n",
       "    <tr>\n",
       "      <th>2</th>\n",
       "      <td>0.11</td>\n",
       "      <td>0.88</td>\n",
       "      <td>7</td>\n",
       "      <td>272</td>\n",
       "      <td>4</td>\n",
       "      <td>0</td>\n",
       "      <td>1</td>\n",
       "      <td>0</td>\n",
       "      <td>1</td>\n",
       "      <td>0</td>\n",
       "      <td>0</td>\n",
       "      <td>0</td>\n",
       "      <td>0</td>\n",
       "      <td>0</td>\n",
       "      <td>0</td>\n",
       "      <td>1</td>\n",
       "      <td>0</td>\n",
       "      <td>0</td>\n",
       "    </tr>\n",
       "    <tr>\n",
       "      <th>3</th>\n",
       "      <td>0.72</td>\n",
       "      <td>0.87</td>\n",
       "      <td>5</td>\n",
       "      <td>223</td>\n",
       "      <td>5</td>\n",
       "      <td>0</td>\n",
       "      <td>1</td>\n",
       "      <td>0</td>\n",
       "      <td>0</td>\n",
       "      <td>0</td>\n",
       "      <td>0</td>\n",
       "      <td>0</td>\n",
       "      <td>0</td>\n",
       "      <td>0</td>\n",
       "      <td>0</td>\n",
       "      <td>1</td>\n",
       "      <td>0</td>\n",
       "      <td>0</td>\n",
       "    </tr>\n",
       "    <tr>\n",
       "      <th>4</th>\n",
       "      <td>0.37</td>\n",
       "      <td>0.52</td>\n",
       "      <td>2</td>\n",
       "      <td>159</td>\n",
       "      <td>3</td>\n",
       "      <td>0</td>\n",
       "      <td>1</td>\n",
       "      <td>0</td>\n",
       "      <td>0</td>\n",
       "      <td>0</td>\n",
       "      <td>0</td>\n",
       "      <td>0</td>\n",
       "      <td>0</td>\n",
       "      <td>0</td>\n",
       "      <td>0</td>\n",
       "      <td>1</td>\n",
       "      <td>0</td>\n",
       "      <td>0</td>\n",
       "    </tr>\n",
       "    <tr>\n",
       "      <th>5</th>\n",
       "      <td>0.41</td>\n",
       "      <td>0.50</td>\n",
       "      <td>2</td>\n",
       "      <td>153</td>\n",
       "      <td>3</td>\n",
       "      <td>0</td>\n",
       "      <td>1</td>\n",
       "      <td>0</td>\n",
       "      <td>0</td>\n",
       "      <td>0</td>\n",
       "      <td>0</td>\n",
       "      <td>0</td>\n",
       "      <td>0</td>\n",
       "      <td>0</td>\n",
       "      <td>0</td>\n",
       "      <td>1</td>\n",
       "      <td>0</td>\n",
       "      <td>0</td>\n",
       "    </tr>\n",
       "  </tbody>\n",
       "</table>\n",
       "</div>"
      ],
      "text/plain": [
       "   satisfaction_level  last_evaluation  number_project  average_monthly_hours  \\\n",
       "0                0.38             0.53               2                    157   \n",
       "2                0.11             0.88               7                    272   \n",
       "3                0.72             0.87               5                    223   \n",
       "4                0.37             0.52               2                    159   \n",
       "5                0.41             0.50               2                    153   \n",
       "\n",
       "   tenure  work_accident  left  promotion_last_5years  salary  \\\n",
       "0       3              0     1                      0       0   \n",
       "2       4              0     1                      0       1   \n",
       "3       5              0     1                      0       0   \n",
       "4       3              0     1                      0       0   \n",
       "5       3              0     1                      0       0   \n",
       "\n",
       "   department_RandD  department_accounting  department_hr  \\\n",
       "0                 0                      0              0   \n",
       "2                 0                      0              0   \n",
       "3                 0                      0              0   \n",
       "4                 0                      0              0   \n",
       "5                 0                      0              0   \n",
       "\n",
       "   department_management  department_marketing  department_product_mng  \\\n",
       "0                      0                     0                       0   \n",
       "2                      0                     0                       0   \n",
       "3                      0                     0                       0   \n",
       "4                      0                     0                       0   \n",
       "5                      0                     0                       0   \n",
       "\n",
       "   department_sales  department_support  department_technical  \n",
       "0                 1                   0                     0  \n",
       "2                 1                   0                     0  \n",
       "3                 1                   0                     0  \n",
       "4                 1                   0                     0  \n",
       "5                 1                   0                     0  "
      ]
     },
     "execution_count": 6,
     "metadata": {},
     "output_type": "execute_result"
    }
   ],
   "source": [
    "# Select rows without outliers in `tenure` and save resulting dataframe in a new variable\n",
    "df_logreg = df_enc[(df_enc['tenure'] >= lower_limit) & (df_enc['tenure'] <= upper_limit)]\n",
    "\n",
    "# Save dataset\n",
    "df_logreg.to_csv('../data/processed/models_data.csv', index=False)\n",
    "\n",
    "# Display first few rows of new dataframe\n",
    "df_logreg.head()"
   ]
  },
  {
   "cell_type": "markdown",
   "metadata": {},
   "source": [
    "**Logistic Regression Model**"
   ]
  },
  {
   "cell_type": "code",
   "execution_count": 7,
   "metadata": {},
   "outputs": [],
   "source": [
    "# Adds the project root to the PYTHONPATH\n",
    "sys.path.append(\"..\")  \n",
    "\n",
    "# Load train / test datasets\n",
    "# Train sets\n",
    "X_train = pd.read_csv(X_train_path)\n",
    "y_train = pd.read_csv(y_train_path)\n",
    "\n",
    "# Test sets\n",
    "X_test = pd.read_csv(X_test_path)\n",
    "y_test = pd.read_csv(y_test_path)"
   ]
  },
  {
   "cell_type": "code",
   "execution_count": 8,
   "metadata": {
    "execution": {
     "iopub.execute_input": "2023-09-28T17:56:10.36175Z",
     "iopub.status.busy": "2023-09-28T17:56:10.36126Z",
     "iopub.status.idle": "2023-09-28T17:56:11.189862Z",
     "shell.execute_reply": "2023-09-28T17:56:11.188244Z",
     "shell.execute_reply.started": "2023-09-28T17:56:10.361714Z"
    }
   },
   "outputs": [],
   "source": [
    "# Construct and fit a logistic model\n",
    "log_clf = LogisticRegression(random_state=42, max_iter=500).fit(X_train, y_train)\n",
    "\n",
    "# Make predictions using the model\n",
    "y_pred = log_clf.predict(X_test)"
   ]
  },
  {
   "cell_type": "markdown",
   "metadata": {},
   "source": [
    "**Confusion Matrix**"
   ]
  },
  {
   "cell_type": "code",
   "execution_count": 9,
   "metadata": {
    "execution": {
     "iopub.execute_input": "2023-09-28T17:56:36.435534Z",
     "iopub.status.busy": "2023-09-28T17:56:36.43503Z",
     "iopub.status.idle": "2023-09-28T17:56:36.676576Z",
     "shell.execute_reply": "2023-09-28T17:56:36.675134Z",
     "shell.execute_reply.started": "2023-09-28T17:56:36.435497Z"
    }
   },
   "outputs": [
    {
     "data": {
      "image/png": "[encoded data removed]",
      "text/plain": [
       "<Figure size 640x480 with 2 Axes>"
      ]
     },
     "metadata": {},
     "output_type": "display_data"
    }
   ],
   "source": [
    "# Confusion Matrix\n",
    "log_cm = confusion_matrix(y_test, y_pred, labels=log_clf.classes_)\n",
    "\n",
    "# Display for the confusion matrix\n",
    "log_disp = ConfusionMatrixDisplay(confusion_matrix=log_cm, display_labels=log_clf.classes_)\n",
    "\n",
    "# Plot confusion matrix\n",
    "log_disp.plot(values_format='')\n",
    "\n",
    "# Display plot\n",
    "plt.show()"
   ]
  },
  {
   "cell_type": "markdown",
   "metadata": {},
   "source": [
    "The upper-left quadrant displays the number of true negatives. The upper-right quadrant displays the number of false positives. The bottom-left quadrant displays the number of false negatives. The bottom-right quadrant displays the number of true positives.\n",
    "\n",
    "True negatives: The number of people who did not leave that the model accurately predicted did not leave.\n",
    "\n",
    "False positives: The number of people who did not leave the model inaccurately predicted as leaving.\n",
    "\n",
    "False negatives: The number of people who left that the model inaccurately predicted did not leave\n",
    "\n",
    "True positives: The number of people who left the model accurately predicted as leaving\n",
    "\n",
    "A perfect model would yield all true negatives and true positives, and no false negatives or false positives."
   ]
  },
  {
   "cell_type": "markdown",
   "metadata": {},
   "source": [
    "**Imbalance Check**\n",
    "\n",
    "Checking the value counts in the `left` column. Since this is a binary classification task, the class balance informs the way you interpret accuracy metrics."
   ]
  },
  {
   "cell_type": "code",
   "execution_count": 10,
   "metadata": {
    "execution": {
     "iopub.execute_input": "2023-09-28T18:01:07.97434Z",
     "iopub.status.busy": "2023-09-28T18:01:07.973917Z",
     "iopub.status.idle": "2023-09-28T18:01:07.988505Z",
     "shell.execute_reply": "2023-09-28T18:01:07.98692Z",
     "shell.execute_reply.started": "2023-09-28T18:01:07.974308Z"
    }
   },
   "outputs": [
    {
     "data": {
      "text/plain": [
       "0    0.831468\n",
       "1    0.168532\n",
       "Name: left, dtype: float64"
      ]
     },
     "execution_count": 10,
     "metadata": {},
     "output_type": "execute_result"
    }
   ],
   "source": [
    "df_logreg['left'].value_counts(normalize=True)"
   ]
  },
  {
   "cell_type": "markdown",
   "metadata": {},
   "source": [
    "The split between the two classes is 83% to 17%, indicating that the data is not perfectly balanced but not too imbalanced. If the data was more severely imbalanced, resample it to achieve a more balanced distribution. However, in this instance, you can use the data without altering the class balance and proceed with model evaluation."
   ]
  },
  {
   "cell_type": "markdown",
   "metadata": {},
   "source": [
    "**Metrics Report**"
   ]
  },
  {
   "cell_type": "code",
   "execution_count": 11,
   "metadata": {
    "execution": {
     "iopub.execute_input": "2023-09-28T18:08:32.356638Z",
     "iopub.status.busy": "2023-09-28T18:08:32.356122Z",
     "iopub.status.idle": "2023-09-28T18:08:32.385523Z",
     "shell.execute_reply": "2023-09-28T18:08:32.384514Z",
     "shell.execute_reply.started": "2023-09-28T18:08:32.356586Z"
    }
   },
   "outputs": [
    {
     "data": {
      "text/html": [
       "<div>\n",
       "<style scoped>\n",
       "    .dataframe tbody tr th:only-of-type {\n",
       "        vertical-align: middle;\n",
       "    }\n",
       "\n",
       "    .dataframe tbody tr th {\n",
       "        vertical-align: top;\n",
       "    }\n",
       "\n",
       "    .dataframe thead th {\n",
       "        text-align: right;\n",
       "    }\n",
       "</style>\n",
       "<table border=\"1\" class=\"dataframe\">\n",
       "  <thead>\n",
       "    <tr style=\"text-align: right;\">\n",
       "      <th></th>\n",
       "      <th>precision</th>\n",
       "      <th>recall</th>\n",
       "      <th>f1-score</th>\n",
       "      <th>support</th>\n",
       "    </tr>\n",
       "  </thead>\n",
       "  <tbody>\n",
       "    <tr>\n",
       "      <th>Predicted would not leave</th>\n",
       "      <td>0.861177</td>\n",
       "      <td>0.932788</td>\n",
       "      <td>0.895553</td>\n",
       "      <td>2321.000000</td>\n",
       "    </tr>\n",
       "    <tr>\n",
       "      <th>Predicted would leave</th>\n",
       "      <td>0.438849</td>\n",
       "      <td>0.259023</td>\n",
       "      <td>0.325768</td>\n",
       "      <td>471.000000</td>\n",
       "    </tr>\n",
       "    <tr>\n",
       "      <th>accuracy</th>\n",
       "      <td>0.819126</td>\n",
       "      <td>0.819126</td>\n",
       "      <td>0.819126</td>\n",
       "      <td>0.819126</td>\n",
       "    </tr>\n",
       "    <tr>\n",
       "      <th>macro avg</th>\n",
       "      <td>0.650013</td>\n",
       "      <td>0.595905</td>\n",
       "      <td>0.610660</td>\n",
       "      <td>2792.000000</td>\n",
       "    </tr>\n",
       "    <tr>\n",
       "      <th>weighted avg</th>\n",
       "      <td>0.789932</td>\n",
       "      <td>0.819126</td>\n",
       "      <td>0.799433</td>\n",
       "      <td>2792.000000</td>\n",
       "    </tr>\n",
       "  </tbody>\n",
       "</table>\n",
       "</div>"
      ],
      "text/plain": [
       "                           precision    recall  f1-score      support\n",
       "Predicted would not leave   0.861177  0.932788  0.895553  2321.000000\n",
       "Predicted would leave       0.438849  0.259023  0.325768   471.000000\n",
       "accuracy                    0.819126  0.819126  0.819126     0.819126\n",
       "macro avg                   0.650013  0.595905  0.610660  2792.000000\n",
       "weighted avg                0.789932  0.819126  0.799433  2792.000000"
      ]
     },
     "execution_count": 11,
     "metadata": {},
     "output_type": "execute_result"
    }
   ],
   "source": [
    "# Create classification report for logistic regression model\n",
    "target_names = ['Predicted would not leave', 'Predicted would leave']\n",
    "report = classification_report(y_test, y_pred, target_names=target_names, output_dict=True)\n",
    "\n",
    "# Convert to dataframe \n",
    "report_df = pd.DataFrame(report).transpose()\n",
    "\n",
    "# Display results\n",
    "report_df"
   ]
  },
  {
   "cell_type": "markdown",
   "metadata": {},
   "source": [
    "We are going to tailor the dataframe so as to be the base for the metrics that will be used in the other models"
   ]
  },
  {
   "cell_type": "code",
   "execution_count": 12,
   "metadata": {
    "execution": {
     "iopub.execute_input": "2023-09-28T18:08:56.607842Z",
     "iopub.status.busy": "2023-09-28T18:08:56.607334Z",
     "iopub.status.idle": "2023-09-28T18:08:56.637135Z",
     "shell.execute_reply": "2023-09-28T18:08:56.63525Z",
     "shell.execute_reply.started": "2023-09-28T18:08:56.607805Z"
    }
   },
   "outputs": [
    {
     "data": {
      "text/html": [
       "<div>\n",
       "<style scoped>\n",
       "    .dataframe tbody tr th:only-of-type {\n",
       "        vertical-align: middle;\n",
       "    }\n",
       "\n",
       "    .dataframe tbody tr th {\n",
       "        vertical-align: top;\n",
       "    }\n",
       "\n",
       "    .dataframe thead th {\n",
       "        text-align: right;\n",
       "    }\n",
       "</style>\n",
       "<table border=\"1\" class=\"dataframe\">\n",
       "  <thead>\n",
       "    <tr style=\"text-align: right;\">\n",
       "      <th></th>\n",
       "      <th>model</th>\n",
       "      <th>precision</th>\n",
       "      <th>recall</th>\n",
       "      <th>F1</th>\n",
       "      <th>accuracy</th>\n",
       "      <th>AUC</th>\n",
       "    </tr>\n",
       "  </thead>\n",
       "  <tbody>\n",
       "    <tr>\n",
       "      <th>0</th>\n",
       "      <td>logistic regression</td>\n",
       "      <td>0.789932</td>\n",
       "      <td>0.819126</td>\n",
       "      <td>0.799433</td>\n",
       "      <td>0.819126</td>\n",
       "      <td>0.595905</td>\n",
       "    </tr>\n",
       "  </tbody>\n",
       "</table>\n",
       "</div>"
      ],
      "text/plain": [
       "                 model  precision    recall        F1  accuracy       AUC\n",
       "0  logistic regression   0.789932  0.819126  0.799433  0.819126  0.595905"
      ]
     },
     "execution_count": 12,
     "metadata": {},
     "output_type": "execute_result"
    }
   ],
   "source": [
    "## Extracting relevant data from the report_df\n",
    "\n",
    "# Extracting the last row\n",
    "results = report_df.tail(1).reset_index(drop=True)\n",
    "\n",
    "# Rename 'f1-score' column\n",
    "results = results.rename(columns={'f1-score' : 'F1'})\n",
    "\n",
    "# Adding a new column \"model\" at the beginning with sample values\n",
    "results.insert(0, 'model', ['logistic regression'])\n",
    "\n",
    "# Dropping the last column (\"support\") from the DataFrame\n",
    "results.drop(columns=['support'], inplace=True)\n",
    "\n",
    "# Adding 'accuracy' and 'auc' columns to the DataFrame\n",
    "results['accuracy'] = report_df.loc['accuracy'][0]\n",
    "results['AUC'] = roc_auc_score(y_test, y_pred)\n",
    "\n",
    "# Display the `result` dataframe\n",
    "results"
   ]
  },
  {
   "cell_type": "markdown",
   "metadata": {},
   "source": [
    "The table above shows that the logistic regression model achieved a precision of 79%, recall of 82%, f1-score of 80%, and accuracy of 82% with and area under the curve (AUC) of 60%."
   ]
  }
 ],
 "metadata": {
  "kernelspec": {
   "display_name": "Python 3",
   "language": "python",
   "name": "python3"
  },
  "language_info": {
   "codemirror_mode": {
    "name": "ipython",
    "version": 3
   },
   "file_extension": ".py",
   "mimetype": "text/x-python",
   "name": "python",
   "nbconvert_exporter": "python",
   "pygments_lexer": "ipython3",
   "version": "3.11.2"
  }
 },
 "nbformat": 4,
 "nbformat_minor": 4
}
